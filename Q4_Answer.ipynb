{
 "cells": [
  {
   "cell_type": "code",
   "execution_count": 1,
   "id": "be7e874c-ddb5-4f9c-85cf-3d7ae3afb12d",
   "metadata": {},
   "outputs": [
    {
     "name": "stdout",
     "output_type": "stream",
     "text": [
      "503\n",
      "509\n",
      "521\n",
      "523\n",
      "541\n",
      "547\n"
     ]
    }
   ],
   "source": [
    "N = 550\n",
    "for i in range(500,N):\n",
    "    for j in range(2,i):\n",
    "        if (i%j == 0):\n",
    "            break\n",
    "    if (j == i-1):\n",
    "        print(i)\n",
    "        "
   ]
  }
 ],
 "metadata": {
  "kernelspec": {
   "display_name": "Python 3",
   "language": "python",
   "name": "python3"
  },
  "language_info": {
   "codemirror_mode": {
    "name": "ipython",
    "version": 3
   },
   "file_extension": ".py",
   "mimetype": "text/x-python",
   "name": "python",
   "nbconvert_exporter": "python",
   "pygments_lexer": "ipython3",
   "version": "3.8.8"
  }
 },
 "nbformat": 4,
 "nbformat_minor": 5
}
