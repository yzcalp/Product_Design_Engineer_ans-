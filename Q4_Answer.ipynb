{
 "cells": [
  {
   "cell_type": "code",
   "execution_count": null,
   "id": "527ee431-4ee0-4410-a1d9-3238656e85e7",
   "metadata": {},
   "outputs": [],
   "source": []
  },
  {
   "cell_type": "code",
   "execution_count": 1,
   "id": "be7e874c-ddb5-4f9c-85cf-3d7ae3afb12d",
   "metadata": {},
   "outputs": [
    {
     "name": "stdout",
     "output_type": "stream",
     "text": [
      "503\n",
      "509\n",
      "521\n",
      "523\n",
      "541\n",
      "547\n"
     ]
    }
   ],
   "source": [
    "N = 550\n",
    "for i in range(500,N):\n",
    "    for j in range(2,i):\n",
    "        if (i%j == 0):\n",
    "            break\n",
    "    if (j == i-1):\n",
    "        print(i)\n",
    "        "
   ]
  },
  {
   "cell_type": "code",
   "execution_count": null,
   "id": "da66d16d-978d-4c36-9c23-1bebf16f8627",
   "metadata": {},
   "outputs": [],
   "source": [
    "import os.path\n",
    "import re\n",
    "\n",
    "'''\n",
    "INSTRUCTIONS\n",
    "1. Create a file with the following code\n",
    "2. Put the file you want to convert into the same folder as it, and rename it to \"py_file.py\"\n",
    "3. Add a \"#F\" comment to any lines in the code which have a function call that doesn't assign anything (so no =),\n",
    "as the program cannot handle these convincingly\n",
    "4. Run the converter file\n",
    "'''\n",
    "\n",
    "python_file = 'py_file.py'\n",
    "\n",
    "basic_conversion_rules = {\"for\": \"FOR\", \"=\": \"TO\", \"if\": \"IF\", \"==\": \"EQUALS\", \"while\": \"WHILE\", \"until\": \"UNTIL\",\n",
    "                          \"import\": \"IMPORT\", \"class\": \"DEFINE CLASS\", \"def\": \"DEFINE FUNCTION\", \"else:\": \"ELSE:\",\n",
    "                          \"elif\": \"ELSEIF\", \"except:\": \"EXCEPT:\", \"try:\": \"TRY:\", \"pass\": \"PASS\", \"in\": \"IN\"}\n",
    "prefix_conversion_rules = {\"=\": \"SET \", \"#F\": \"CALL \"}\n",
    "advanced_conversion_rules = {\"print\": \"OUTPUT\", \"return\": \"RETURN\", \"input\": \"INPUT\"}\n",
    "\n",
    "\n",
    "def l2pseudo(to_pseudo):\n",
    "    for line in to_pseudo:\n",
    "        line_index = to_pseudo.index(line)\n",
    "        line = str(line)\n",
    "        line = re.split(r'(\\s+)', line)\n",
    "        for key, value in prefix_conversion_rules.items():\n",
    "            if key in line:\n",
    "                if not str(line[0]) == '':\n",
    "                    line[0] = value + line[0]\n",
    "                else:\n",
    "                    line[2] = value + line[2]\n",
    "        for key, value in basic_conversion_rules.items():\n",
    "            for word in line:\n",
    "                if key == str(word):\n",
    "                    line[line.index(word)] = value\n",
    "        for key, value in advanced_conversion_rules.items():\n",
    "            for word in line:\n",
    "                line[line.index(word)] = word.replace(key, value)\n",
    "        for key, value in prefix_conversion_rules.items():\n",
    "            for word in line:\n",
    "                if word == key:\n",
    "                    del line[line.index(word)]\n",
    "        to_pseudo[line_index] = \"\".join(line)\n",
    "    return to_pseudo\n",
    "\n",
    "\n",
    "def p2file(to_file):\n",
    "    py_file = os.path.splitext(os.path.basename(python_file))[0]\n",
    "    with open(py_file + '_pseudo.txt', 'w') as writer:\n",
    "        writer.write(\"\\n\".join(to_file))\n",
    "\n",
    "\n",
    "def main():\n",
    "    with open(python_file, 'r+') as py_file_reader:\n",
    "        file_lines = py_file_reader.readlines()\n",
    "        work_file = l2pseudo(file_lines)\n",
    "        p2file(work_file)\n",
    "\n",
    "\n",
    "if __name__ == '__main__':\n",
    "    main()"
   ]
  }
 ],
 "metadata": {
  "kernelspec": {
   "display_name": "Python 3",
   "language": "python",
   "name": "python3"
  },
  "language_info": {
   "codemirror_mode": {
    "name": "ipython",
    "version": 3
   },
   "file_extension": ".py",
   "mimetype": "text/x-python",
   "name": "python",
   "nbconvert_exporter": "python",
   "pygments_lexer": "ipython3",
   "version": "3.8.8"
  }
 },
 "nbformat": 4,
 "nbformat_minor": 5
}
